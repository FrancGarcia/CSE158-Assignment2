{
 "cells": [
  {
   "cell_type": "code",
   "execution_count": 39,
   "metadata": {},
   "outputs": [],
   "source": [
    "import gzip\n",
    "import json\n",
    "from collections import defaultdict\n",
    "from datetime import datetime\n",
    "import numpy as np\n",
    "import pandas as pd\n",
    "import random\n",
    "# import math"
   ]
  },
  {
   "cell_type": "markdown",
   "metadata": {},
   "source": [
    "# Load Data"
   ]
  },
  {
   "cell_type": "code",
   "execution_count": 2,
   "metadata": {},
   "outputs": [],
   "source": [
    "def readJSON(path, sample=float('inf')):\n",
    "    f = gzip.open(path, 'rt') # default rb?\n",
    "    f.readline()\n",
    "    stop = 0\n",
    "    for l in f:\n",
    "        if stop >= sample: break\n",
    "        d = eval(l)\n",
    "        u = d['gPlusUserId']\n",
    "        g = d['gPlusPlaceId']\n",
    "        #c = d['categories']\n",
    "        #r = d['rating']\n",
    "        stop += 1\n",
    "        yield u,g,d#,r,c"
   ]
  },
  {
   "cell_type": "code",
   "execution_count": 3,
   "metadata": {},
   "outputs": [],
   "source": [
    "def sampleJSON(path):\n",
    "    f = gzip.open(path, 'rt') # default rb?\n",
    "    f.readline()\n",
    "    for l in f:\n",
    "        if random.randint(0, 11) == 7: # keeps 1/11 of data\n",
    "            d = eval(l)\n",
    "            u = d['gPlusUserId']\n",
    "            g = d['gPlusPlaceId']\n",
    "            #c = d['categories']\n",
    "            #r = d['rating']\n",
    "            yield u,g,d#,r,c"
   ]
  },
  {
   "cell_type": "code",
   "execution_count": 4,
   "metadata": {},
   "outputs": [],
   "source": [
    "random.seed(500) # for consistent statistics / sampling"
   ]
  },
  {
   "cell_type": "code",
   "execution_count": 5,
   "metadata": {},
   "outputs": [],
   "source": [
    "# sample data\n",
    "\n",
    "allReviews = []\n",
    "allplaces = set()\n",
    "itemPerUser_all = defaultdict(set)\n",
    "userPerItem_all = defaultdict(set)\n",
    "userIDs = {}\n",
    "placeIDs = {}\n",
    "all_data = []\n",
    "\n",
    "for l in sampleJSON(\"data/reviews.clean.json.gz\"):#, 50000):\n",
    "    u,i = l[0],l[1]\n",
    "    allReviews.append(l)\n",
    "    allplaces.add(l[1])\n",
    "    all_data.append(l[2])\n",
    "    itemPerUser_all[l[0]].add(l[1])\n",
    "    userPerItem_all[l[1]].add(l[0])\n",
    "    if not u in userIDs: userIDs[u] = len(userIDs)\n",
    "    if not i in placeIDs: placeIDs[i] = len(placeIDs)\n",
    "\n",
    "nUsers,nPlaces = len(userIDs),len(placeIDs)"
   ]
  },
  {
   "cell_type": "markdown",
   "metadata": {},
   "source": [
    "Sample data"
   ]
  },
  {
   "cell_type": "code",
   "execution_count": null,
   "metadata": {},
   "outputs": [],
   "source": [
    "# write sample to csv\n",
    "\n",
    "# sample = open(\"data/reviews_sample.csv\", 'w')\n",
    "# for d in random.sample(all_data, 250000):#int(.03 * len(all_data))\n",
    "#     sample.write(d)\n",
    "\n",
    "# sample.close()"
   ]
  },
  {
   "cell_type": "markdown",
   "metadata": {},
   "source": [
    "Read in sample only"
   ]
  },
  {
   "cell_type": "code",
   "execution_count": null,
   "metadata": {},
   "outputs": [],
   "source": [
    "# read in sample.csv\n",
    "\n",
    "# allReviews = []\n",
    "# allplaces = set()\n",
    "# itemPerUser_all = defaultdict(set)\n",
    "# userPerItem_all = defaultdict(set)\n",
    "# userIDs = {}\n",
    "# placeIDs = {}\n",
    "# all_data = []\n",
    "\n",
    "# for l in readJSON(\"data/reviews_sample.csv\"):#, 50000):\n",
    "#     u,i = l[0],l[1]\n",
    "#     allReviews.append(l)\n",
    "#     allplaces.add(l[1])\n",
    "#     all_data.append(l[2])\n",
    "#     itemPerUser_all[l[0]].add(l[1])\n",
    "#     userPerItem_all[l[1]].add(l[0])\n",
    "#     if not u in userIDs: userIDs[u] = len(userIDs)\n",
    "#     if not i in placeIDs: placeIDs[i] = len(placeIDs)\n",
    "\n",
    "# nUsers,nPlaces = len(userIDs),len(placeIDs)"
   ]
  },
  {
   "cell_type": "markdown",
   "metadata": {},
   "source": [
    "# EDA"
   ]
  },
  {
   "cell_type": "markdown",
   "metadata": {},
   "source": [
    "Performed on sample of dataset, was too big for DRAM!"
   ]
  },
  {
   "cell_type": "code",
   "execution_count": null,
   "metadata": {},
   "outputs": [],
   "source": [
    "# ['rating', 'reviewerName', 'reviewText', 'categories', 'gPlusPlaceId', 'unixReviewTime', 'reviewTime', 'gPlusUserId']"
   ]
  },
  {
   "cell_type": "code",
   "execution_count": 27,
   "metadata": {},
   "outputs": [
    {
     "name": "stdout",
     "output_type": "stream",
     "text": [
      "Number of Reviews: 955435\n",
      "Number of Users: 726998\n",
      "Number of Places: 685907\n"
     ]
    }
   ],
   "source": [
    "# num reviews\n",
    "print(f\"Number of Reviews: {len(allReviews)}\")\n",
    "print(f\"Number of Users: {nUsers}\")\n",
    "print(f\"Number of Places: {nPlaces}\")"
   ]
  },
  {
   "cell_type": "code",
   "execution_count": 24,
   "metadata": {},
   "outputs": [
    {
     "name": "stdout",
     "output_type": "stream",
     "text": [
      "Average Rating: 4.047124084840936\n",
      "Number of Reviews per User: 1.3142195714431126\n",
      "Number of Reviews per Place: 1.3929512309977883\n"
     ]
    }
   ],
   "source": [
    "# Global Average Rating\n",
    "avg_rating = sum([d['rating'] for d in all_data]) / len(all_data)\n",
    "print(\"Average Rating: \" + str(avg_rating))\n",
    "\n",
    "# Average number of reviews per user\n",
    "avg_revPerUser = sum([len(itemPerUser_all[s]) for s in itemPerUser_all]) / len(itemPerUser_all)\n",
    "print(\"Number of Reviews per User: \" + str(avg_revPerUser))\n",
    "\n",
    "avg_revPerPlace = sum([len(userPerItem_all[s]) for s in userPerItem_all]) / len(userPerItem_all)\n",
    "print(\"Number of Reviews per Place: \" + str(avg_revPerPlace))"
   ]
  },
  {
   "cell_type": "code",
   "execution_count": 37,
   "metadata": {},
   "outputs": [],
   "source": [
    "# Any missing Ratings?\n",
    "na_rating = 0\n",
    "na_name = 0\n",
    "na_text = 0\n",
    "na_categories = 0\n",
    "na_unixtime = 0\n",
    "na_time = 0\n",
    "\n",
    "\n",
    "for d in all_data:\n",
    "    if d['rating'] > 5: na_rating += 1\n",
    "    if d['reviewerName'] == '': na_name += 1\n",
    "    if d['reviewText'] == '': na_text += 1\n",
    "    if d['categories'] == []: na_categories += 1\n",
    "    "
   ]
  },
  {
   "cell_type": "code",
   "execution_count": 38,
   "metadata": {},
   "outputs": [
    {
     "name": "stdout",
     "output_type": "stream",
     "text": [
      "0\n",
      "0\n",
      "845\n",
      "0\n",
      "0\n",
      "0\n"
     ]
    }
   ],
   "source": [
    "print(na_rating)\n",
    "print(na_name)\n",
    "print(na_text)\n",
    "print(na_categories)\n",
    "print(na_unixtime)\n",
    "print(na_time)"
   ]
  },
  {
   "cell_type": "code",
   "execution_count": 46,
   "metadata": {},
   "outputs": [
    {
     "name": "stdout",
     "output_type": "stream",
     "text": [
      "min: 0.0\n",
      "max: 5.0\n"
     ]
    },
    {
     "data": {
      "image/png": "[encoded data removed]",
      "text/plain": [
       "<Figure size 640x480 with 1 Axes>"
      ]
     },
     "metadata": {},
     "output_type": "display_data"
    }
   ],
   "source": [
    "# lets explore what we are predicting\n",
    "ratings = pd.Series([d['rating'] for d in all_data])\n",
    "print(f\"min: {ratings.min()}\\nmax: {ratings.max()}\")\n",
    "ratings.plot(kind='hist');"
   ]
  },
  {
   "cell_type": "code",
   "execution_count": 61,
   "metadata": {},
   "outputs": [
    {
     "name": "stdout",
     "output_type": "stream",
     "text": [
      "min: 0\n",
      "max: 4090\n"
     ]
    },
    {
     "data": {
      "image/png": "[encoded data removed]",
      "text/plain": [
       "<Figure size 640x480 with 1 Axes>"
      ]
     },
     "metadata": {},
     "output_type": "display_data"
    }
   ],
   "source": [
    "lengths = pd.Series([len(d['reviewText']) if type(d['reviewText']) == str else 0 for d in all_data])\n",
    "print(f\"min: {lengths.min()}\\nmax: {lengths.max()}\")\n",
    "lengths.plot(kind='hist');"
   ]
  },
  {
   "cell_type": "code",
   "execution_count": null,
   "metadata": {},
   "outputs": [],
   "source": []
  }
 ],
 "metadata": {
  "kernelspec": {
   "display_name": "base",
   "language": "python",
   "name": "python3"
  },
  "language_info": {
   "codemirror_mode": {
    "name": "ipython",
    "version": 3
   },
   "file_extension": ".py",
   "mimetype": "text/x-python",
   "name": "python",
   "nbconvert_exporter": "python",
   "pygments_lexer": "ipython3",
   "version": "3.9.15"
  }
 },
 "nbformat": 4,
 "nbformat_minor": 2
}
